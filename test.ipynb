{
 "cells": [
  {
   "cell_type": "code",
   "execution_count": 1,
   "metadata": {},
   "outputs": [],
   "source": [
    "import pandas as pd"
   ]
  },
  {
   "cell_type": "code",
   "execution_count": 2,
   "metadata": {},
   "outputs": [
    {
     "name": "stdout",
     "output_type": "stream",
     "text": [
      "\n",
      "INSTALLED VERSIONS\n",
      "------------------\n",
      "commit                : d9cdd2ee5a58015ef6f4d15c7226110c9aab8140\n",
      "python                : 3.12.4.final.0\n",
      "python-bits           : 64\n",
      "OS                    : Windows\n",
      "OS-release            : 11\n",
      "Version               : 10.0.22631\n",
      "machine               : AMD64\n",
      "processor             : Intel64 Family 6 Model 142 Stepping 10, GenuineIntel\n",
      "byteorder             : little\n",
      "LC_ALL                : None\n",
      "LANG                  : None\n",
      "LOCALE                : English_United States.1252\n",
      "\n",
      "pandas                : 2.2.2\n",
      "numpy                 : 2.0.0\n",
      "pytz                  : 2024.1\n",
      "dateutil              : 2.9.0.post0\n",
      "setuptools            : None\n",
      "pip                   : 24.0\n",
      "Cython                : None\n",
      "pytest                : None\n",
      "hypothesis            : None\n",
      "sphinx                : None\n",
      "blosc                 : None\n",
      "feather               : None\n",
      "xlsxwriter            : None\n",
      "lxml.etree            : None\n",
      "html5lib              : None\n",
      "pymysql               : None\n",
      "psycopg2              : None\n",
      "jinja2                : 3.1.4\n",
      "IPython               : 8.26.0\n",
      "pandas_datareader     : None\n",
      "adbc-driver-postgresql: None\n",
      "adbc-driver-sqlite    : None\n",
      "bs4                   : None\n",
      "bottleneck            : None\n",
      "dataframe-api-compat  : None\n",
      "fastparquet           : None\n",
      "fsspec                : None\n",
      "gcsfs                 : None\n",
      "matplotlib            : 3.9.1\n",
      "numba                 : None\n",
      "numexpr               : None\n",
      "odfpy                 : None\n",
      "openpyxl              : 3.1.5\n",
      "pandas_gbq            : None\n",
      "pyarrow               : 16.1.0\n",
      "pyreadstat            : None\n",
      "python-calamine       : None\n",
      "pyxlsb                : None\n",
      "s3fs                  : None\n",
      "scipy                 : None\n",
      "sqlalchemy            : None\n",
      "tables                : None\n",
      "tabulate              : None\n",
      "xarray                : None\n",
      "xlrd                  : None\n",
      "zstandard             : None\n",
      "tzdata                : 2024.1\n",
      "qtpy                  : None\n",
      "pyqt5                 : None\n"
     ]
    }
   ],
   "source": [
    "pd.show_versions(as_json=False)"
   ]
  },
  {
   "cell_type": "code",
   "execution_count": 3,
   "metadata": {},
   "outputs": [
    {
     "name": "stdout",
     "output_type": "stream",
     "text": [
      "Plotly is installed and imported successfully!\n"
     ]
    }
   ],
   "source": [
    "import plotly.express as px\n",
    "print(\"Plotly is installed and imported successfully!\")"
   ]
  },
  {
   "cell_type": "code",
   "execution_count": 4,
   "metadata": {},
   "outputs": [
    {
     "name": "stdout",
     "output_type": "stream",
     "text": [
      "\n",
      "INSTALLED VERSIONS\n",
      "------------------\n",
      "commit                : d9cdd2ee5a58015ef6f4d15c7226110c9aab8140\n",
      "python                : 3.12.4.final.0\n",
      "python-bits           : 64\n",
      "OS                    : Windows\n",
      "OS-release            : 11\n",
      "Version               : 10.0.22631\n",
      "machine               : AMD64\n",
      "processor             : Intel64 Family 6 Model 142 Stepping 10, GenuineIntel\n",
      "byteorder             : little\n",
      "LC_ALL                : None\n",
      "LANG                  : None\n",
      "LOCALE                : English_United States.1252\n",
      "\n",
      "pandas                : 2.2.2\n",
      "numpy                 : 2.0.0\n",
      "pytz                  : 2024.1\n",
      "dateutil              : 2.9.0.post0\n",
      "setuptools            : None\n",
      "pip                   : 24.0\n",
      "Cython                : None\n",
      "pytest                : None\n",
      "hypothesis            : None\n",
      "sphinx                : None\n",
      "blosc                 : None\n",
      "feather               : None\n",
      "xlsxwriter            : None\n",
      "lxml.etree            : None\n",
      "html5lib              : None\n",
      "pymysql               : None\n",
      "psycopg2              : None\n",
      "jinja2                : 3.1.4\n",
      "IPython               : 8.26.0\n",
      "pandas_datareader     : None\n",
      "adbc-driver-postgresql: None\n",
      "adbc-driver-sqlite    : None\n",
      "bs4                   : None\n",
      "bottleneck            : None\n",
      "dataframe-api-compat  : None\n",
      "fastparquet           : None\n",
      "fsspec                : None\n",
      "gcsfs                 : None\n",
      "matplotlib            : 3.9.1\n",
      "numba                 : None\n",
      "numexpr               : None\n",
      "odfpy                 : None\n",
      "openpyxl              : 3.1.5\n",
      "pandas_gbq            : None\n",
      "pyarrow               : 16.1.0\n",
      "pyreadstat            : None\n",
      "python-calamine       : None\n",
      "pyxlsb                : None\n",
      "s3fs                  : None\n",
      "scipy                 : None\n",
      "sqlalchemy            : None\n",
      "tables                : None\n",
      "tabulate              : None\n",
      "xarray                : None\n",
      "xlrd                  : None\n",
      "zstandard             : None\n",
      "tzdata                : 2024.1\n",
      "qtpy                  : None\n",
      "pyqt5                 : None\n"
     ]
    }
   ],
   "source": [
    "pd.show_versions(as_json=False)"
   ]
  }
 ],
 "metadata": {
  "kernelspec": {
   "display_name": "Python 3",
   "language": "python",
   "name": "python3"
  },
  "language_info": {
   "codemirror_mode": {
    "name": "ipython",
    "version": 3
   },
   "file_extension": ".py",
   "mimetype": "text/x-python",
   "name": "python",
   "nbconvert_exporter": "python",
   "pygments_lexer": "ipython3",
   "version": "3.12.4"
  }
 },
 "nbformat": 4,
 "nbformat_minor": 2
}
